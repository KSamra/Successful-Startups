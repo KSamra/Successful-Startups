{
 "cells": [
  {
   "cell_type": "code",
   "execution_count": 1,
   "metadata": {},
   "outputs": [],
   "source": [
    "import pandas as pd"
   ]
  },
  {
   "cell_type": "code",
   "execution_count": 2,
   "metadata": {},
   "outputs": [],
   "source": [
    "import numpy as np\n",
    "import matplotlib.pyplot as plt\n",
    "%matplotlib notebook"
   ]
  },
  {
   "cell_type": "code",
   "execution_count": 3,
   "metadata": {},
   "outputs": [],
   "source": [
    "# Which parts of the year are investments/acquisitions more active? \n",
    "# Is there a part of the year where the overall number of investments are larger?\n",
    "\n"
   ]
  },
  {
   "cell_type": "code",
   "execution_count": 4,
   "metadata": {},
   "outputs": [],
   "source": [
    "investments = pd.read_csv('investments.csv')"
   ]
  },
  {
   "cell_type": "code",
   "execution_count": 5,
   "metadata": {},
   "outputs": [
    {
     "data": {
      "text/plain": [
       "company_permalink           object\n",
       "company_name                object\n",
       "company_category_list       object\n",
       "company_country_code        object\n",
       "company_state_code          object\n",
       "company_region              object\n",
       "company_city                object\n",
       "investor_permalink          object\n",
       "investor_name               object\n",
       "investor_country_code       object\n",
       "investor_state_code         object\n",
       "investor_region             object\n",
       "investor_city               object\n",
       "funding_round_permalink     object\n",
       "funding_round_type          object\n",
       "funding_round_code          object\n",
       "funded_at                   object\n",
       "raised_amount_usd          float64\n",
       "dtype: object"
      ]
     },
     "execution_count": 5,
     "metadata": {},
     "output_type": "execute_result"
    }
   ],
   "source": [
    "investments.dtypes"
   ]
  },
  {
   "cell_type": "code",
   "execution_count": 6,
   "metadata": {},
   "outputs": [],
   "source": [
    "# Convert the funded_at column into a DateTime type for easier analysis\n",
    "# Refer to the pandas TimeSeries and .dt properties on the pandas API Reference\n",
    "investments['funded_at'] = pd.to_datetime(investments.funded_at)"
   ]
  },
  {
   "cell_type": "code",
   "execution_count": 7,
   "metadata": {},
   "outputs": [
    {
     "data": {
      "text/plain": [
       "company_permalink                  object\n",
       "company_name                       object\n",
       "company_category_list              object\n",
       "company_country_code               object\n",
       "company_state_code                 object\n",
       "company_region                     object\n",
       "company_city                       object\n",
       "investor_permalink                 object\n",
       "investor_name                      object\n",
       "investor_country_code              object\n",
       "investor_state_code                object\n",
       "investor_region                    object\n",
       "investor_city                      object\n",
       "funding_round_permalink            object\n",
       "funding_round_type                 object\n",
       "funding_round_code                 object\n",
       "funded_at                  datetime64[ns]\n",
       "raised_amount_usd                 float64\n",
       "dtype: object"
      ]
     },
     "execution_count": 7,
     "metadata": {},
     "output_type": "execute_result"
    }
   ],
   "source": [
    "investments.dtypes"
   ]
  },
  {
   "cell_type": "code",
   "execution_count": null,
   "metadata": {},
   "outputs": [],
   "source": []
  },
  {
   "cell_type": "code",
   "execution_count": 8,
   "metadata": {},
   "outputs": [],
   "source": [
    "# Add a new column that specifies which quarter of the year the investment\n",
    "# was made in. Could be useful for plotting?\n",
    "investments['quarter'] = investments.funded_at.dt.quarter"
   ]
  },
  {
   "cell_type": "code",
   "execution_count": null,
   "metadata": {},
   "outputs": [],
   "source": []
  },
  {
   "cell_type": "code",
   "execution_count": 9,
   "metadata": {},
   "outputs": [],
   "source": [
    "# Add a new column that specifies the name of the month that the investment was made\n",
    "investments['month'] = investments.funded_at.dt.month_name()"
   ]
  },
  {
   "cell_type": "code",
   "execution_count": null,
   "metadata": {},
   "outputs": [],
   "source": []
  },
  {
   "cell_type": "code",
   "execution_count": 10,
   "metadata": {},
   "outputs": [
    {
     "data": {
      "text/html": [
       "<div>\n",
       "<style scoped>\n",
       "    .dataframe tbody tr th:only-of-type {\n",
       "        vertical-align: middle;\n",
       "    }\n",
       "\n",
       "    .dataframe tbody tr th {\n",
       "        vertical-align: top;\n",
       "    }\n",
       "\n",
       "    .dataframe thead th {\n",
       "        text-align: right;\n",
       "    }\n",
       "</style>\n",
       "<table border=\"1\" class=\"dataframe\">\n",
       "  <thead>\n",
       "    <tr style=\"text-align: right;\">\n",
       "      <th></th>\n",
       "      <th>company_permalink</th>\n",
       "      <th>company_name</th>\n",
       "      <th>company_category_list</th>\n",
       "      <th>company_country_code</th>\n",
       "      <th>company_state_code</th>\n",
       "      <th>company_region</th>\n",
       "      <th>company_city</th>\n",
       "      <th>investor_permalink</th>\n",
       "      <th>investor_name</th>\n",
       "      <th>investor_country_code</th>\n",
       "      <th>investor_state_code</th>\n",
       "      <th>investor_region</th>\n",
       "      <th>investor_city</th>\n",
       "      <th>funding_round_permalink</th>\n",
       "      <th>funding_round_type</th>\n",
       "      <th>funding_round_code</th>\n",
       "      <th>funded_at</th>\n",
       "      <th>raised_amount_usd</th>\n",
       "      <th>quarter</th>\n",
       "      <th>month</th>\n",
       "    </tr>\n",
       "  </thead>\n",
       "  <tbody>\n",
       "    <tr>\n",
       "      <th>0</th>\n",
       "      <td>/organization/0-6-com</td>\n",
       "      <td>0-6.com</td>\n",
       "      <td>Curated Web</td>\n",
       "      <td>CHN</td>\n",
       "      <td>22</td>\n",
       "      <td>Beijing</td>\n",
       "      <td>Beijing</td>\n",
       "      <td>/organization/dt-capital-partners</td>\n",
       "      <td>DT Capital Partners</td>\n",
       "      <td>CHN</td>\n",
       "      <td>23</td>\n",
       "      <td>Shanghai</td>\n",
       "      <td>Shanghai</td>\n",
       "      <td>/funding-round/5727accaeaa57461bd22a9bdd945382d</td>\n",
       "      <td>venture</td>\n",
       "      <td>A</td>\n",
       "      <td>2008-03-19</td>\n",
       "      <td>2000000.0</td>\n",
       "      <td>1</td>\n",
       "      <td>March</td>\n",
       "    </tr>\n",
       "    <tr>\n",
       "      <th>1</th>\n",
       "      <td>/organization/004-technologies</td>\n",
       "      <td>004 Technologies</td>\n",
       "      <td>Software</td>\n",
       "      <td>USA</td>\n",
       "      <td>IL</td>\n",
       "      <td>Springfield, Illinois</td>\n",
       "      <td>Champaign</td>\n",
       "      <td>/organization/venturecapital-de</td>\n",
       "      <td>VCDE Venture Partners</td>\n",
       "      <td>DEU</td>\n",
       "      <td>5</td>\n",
       "      <td>Frankfurt</td>\n",
       "      <td>Frankfurt</td>\n",
       "      <td>/funding-round/1278dd4e6a37fa4b7d7e06c21b3c1830</td>\n",
       "      <td>venture</td>\n",
       "      <td>NaN</td>\n",
       "      <td>2014-07-24</td>\n",
       "      <td>NaN</td>\n",
       "      <td>3</td>\n",
       "      <td>July</td>\n",
       "    </tr>\n",
       "    <tr>\n",
       "      <th>2</th>\n",
       "      <td>/organization/01games-technology</td>\n",
       "      <td>01Games Technology</td>\n",
       "      <td>Games</td>\n",
       "      <td>HKG</td>\n",
       "      <td>NaN</td>\n",
       "      <td>Hong Kong</td>\n",
       "      <td>Hong Kong</td>\n",
       "      <td>/organization/cyberport-hong-kong</td>\n",
       "      <td>Cyberport Hong Kong</td>\n",
       "      <td>HKG</td>\n",
       "      <td>NaN</td>\n",
       "      <td>Hong Kong</td>\n",
       "      <td>Hong Kong</td>\n",
       "      <td>/funding-round/7d53696f2b4f607a2f2a8cbb83d01839</td>\n",
       "      <td>undisclosed</td>\n",
       "      <td>NaN</td>\n",
       "      <td>2014-07-01</td>\n",
       "      <td>41250.0</td>\n",
       "      <td>3</td>\n",
       "      <td>July</td>\n",
       "    </tr>\n",
       "    <tr>\n",
       "      <th>3</th>\n",
       "      <td>/organization/0xdata</td>\n",
       "      <td>H2O.ai</td>\n",
       "      <td>Analytics</td>\n",
       "      <td>USA</td>\n",
       "      <td>CA</td>\n",
       "      <td>SF Bay Area</td>\n",
       "      <td>Mountain View</td>\n",
       "      <td>/organization/capital-one</td>\n",
       "      <td>Capital One</td>\n",
       "      <td>USA</td>\n",
       "      <td>VA</td>\n",
       "      <td>Washington, D.C.</td>\n",
       "      <td>Mclean</td>\n",
       "      <td>/funding-round/3bb2ee4a2d89251a10aaa735b1180e44</td>\n",
       "      <td>venture</td>\n",
       "      <td>B</td>\n",
       "      <td>2015-11-09</td>\n",
       "      <td>20000000.0</td>\n",
       "      <td>4</td>\n",
       "      <td>November</td>\n",
       "    </tr>\n",
       "    <tr>\n",
       "      <th>4</th>\n",
       "      <td>/organization/0xdata</td>\n",
       "      <td>H2O.ai</td>\n",
       "      <td>Analytics</td>\n",
       "      <td>USA</td>\n",
       "      <td>CA</td>\n",
       "      <td>SF Bay Area</td>\n",
       "      <td>Mountain View</td>\n",
       "      <td>/organization/nexus-venture-partners</td>\n",
       "      <td>Nexus Venture Partners</td>\n",
       "      <td>USA</td>\n",
       "      <td>CA</td>\n",
       "      <td>SF Bay Area</td>\n",
       "      <td>Menlo Park</td>\n",
       "      <td>/funding-round/383a9bd2c04f7038bb543ccef5ba3eae</td>\n",
       "      <td>seed</td>\n",
       "      <td>NaN</td>\n",
       "      <td>2013-05-22</td>\n",
       "      <td>3000000.0</td>\n",
       "      <td>2</td>\n",
       "      <td>May</td>\n",
       "    </tr>\n",
       "  </tbody>\n",
       "</table>\n",
       "</div>"
      ],
      "text/plain": [
       "                  company_permalink        company_name company_category_list  \\\n",
       "0             /organization/0-6-com             0-6.com           Curated Web   \n",
       "1    /organization/004-technologies    004 Technologies              Software   \n",
       "2  /organization/01games-technology  01Games Technology                 Games   \n",
       "3              /organization/0xdata              H2O.ai             Analytics   \n",
       "4              /organization/0xdata              H2O.ai             Analytics   \n",
       "\n",
       "  company_country_code company_state_code         company_region  \\\n",
       "0                  CHN                 22                Beijing   \n",
       "1                  USA                 IL  Springfield, Illinois   \n",
       "2                  HKG                NaN              Hong Kong   \n",
       "3                  USA                 CA            SF Bay Area   \n",
       "4                  USA                 CA            SF Bay Area   \n",
       "\n",
       "    company_city                    investor_permalink  \\\n",
       "0        Beijing     /organization/dt-capital-partners   \n",
       "1      Champaign       /organization/venturecapital-de   \n",
       "2      Hong Kong     /organization/cyberport-hong-kong   \n",
       "3  Mountain View             /organization/capital-one   \n",
       "4  Mountain View  /organization/nexus-venture-partners   \n",
       "\n",
       "            investor_name investor_country_code investor_state_code  \\\n",
       "0     DT Capital Partners                   CHN                  23   \n",
       "1   VCDE Venture Partners                   DEU                   5   \n",
       "2     Cyberport Hong Kong                   HKG                 NaN   \n",
       "3             Capital One                   USA                  VA   \n",
       "4  Nexus Venture Partners                   USA                  CA   \n",
       "\n",
       "    investor_region investor_city  \\\n",
       "0          Shanghai      Shanghai   \n",
       "1         Frankfurt     Frankfurt   \n",
       "2         Hong Kong     Hong Kong   \n",
       "3  Washington, D.C.        Mclean   \n",
       "4       SF Bay Area    Menlo Park   \n",
       "\n",
       "                           funding_round_permalink funding_round_type  \\\n",
       "0  /funding-round/5727accaeaa57461bd22a9bdd945382d            venture   \n",
       "1  /funding-round/1278dd4e6a37fa4b7d7e06c21b3c1830            venture   \n",
       "2  /funding-round/7d53696f2b4f607a2f2a8cbb83d01839        undisclosed   \n",
       "3  /funding-round/3bb2ee4a2d89251a10aaa735b1180e44            venture   \n",
       "4  /funding-round/383a9bd2c04f7038bb543ccef5ba3eae               seed   \n",
       "\n",
       "  funding_round_code  funded_at  raised_amount_usd  quarter     month  \n",
       "0                  A 2008-03-19          2000000.0        1     March  \n",
       "1                NaN 2014-07-24                NaN        3      July  \n",
       "2                NaN 2014-07-01            41250.0        3      July  \n",
       "3                  B 2015-11-09         20000000.0        4  November  \n",
       "4                NaN 2013-05-22          3000000.0        2       May  "
      ]
     },
     "execution_count": 10,
     "metadata": {},
     "output_type": "execute_result"
    }
   ],
   "source": [
    "investments.head()"
   ]
  },
  {
   "cell_type": "code",
   "execution_count": 11,
   "metadata": {},
   "outputs": [],
   "source": [
    "# how many investments occur per quarter? \n",
    "quarterly_investments_total = investments.groupby('quarter')['company_permalink'].count()"
   ]
  },
  {
   "cell_type": "code",
   "execution_count": 12,
   "metadata": {},
   "outputs": [
    {
     "data": {
      "text/plain": [
       "quarter\n",
       "1    43879\n",
       "2    42222\n",
       "3    42610\n",
       "4    39936\n",
       "Name: company_permalink, dtype: int64"
      ]
     },
     "execution_count": 12,
     "metadata": {},
     "output_type": "execute_result"
    }
   ],
   "source": [
    "quarterly_investments_total\n",
    "# Seems to not be that interesting"
   ]
  },
  {
   "cell_type": "code",
   "execution_count": 13,
   "metadata": {},
   "outputs": [
    {
     "data": {
      "text/plain": [
       "<matplotlib.axes._subplots.AxesSubplot at 0x125131c50>"
      ]
     },
     "execution_count": 13,
     "metadata": {},
     "output_type": "execute_result"
    },
    {
     "data": {
      "image/png": "[encoded data removed]",
      "text/plain": [
       "<Figure size 432x288 with 1 Axes>"
      ]
     },
     "metadata": {
      "needs_background": "light"
     },
     "output_type": "display_data"
    }
   ],
   "source": [
    "# not really interesting\n",
    "quarterly_investments_total.plot.bar()"
   ]
  },
  {
   "cell_type": "code",
   "execution_count": null,
   "metadata": {},
   "outputs": [],
   "source": []
  },
  {
   "cell_type": "code",
   "execution_count": null,
   "metadata": {},
   "outputs": [],
   "source": []
  },
  {
   "cell_type": "code",
   "execution_count": 14,
   "metadata": {},
   "outputs": [],
   "source": [
    "# Now doing the same for monthly investments"
   ]
  },
  {
   "cell_type": "code",
   "execution_count": 15,
   "metadata": {},
   "outputs": [],
   "source": [
    "monthly_investments_total = investments.groupby('month')['company_name'].count()"
   ]
  },
  {
   "cell_type": "code",
   "execution_count": 16,
   "metadata": {},
   "outputs": [
    {
     "data": {
      "text/plain": [
       "month\n",
       "April        13524\n",
       "August       13422\n",
       "December     11813\n",
       "February     11922\n",
       "January      18127\n",
       "July         14243\n",
       "June         15286\n",
       "March        13829\n",
       "May          13412\n",
       "November     13490\n",
       "October      14633\n",
       "September    14945\n",
       "Name: company_name, dtype: int64"
      ]
     },
     "execution_count": 16,
     "metadata": {},
     "output_type": "execute_result"
    }
   ],
   "source": [
    "monthly_investments_total"
   ]
  },
  {
   "cell_type": "code",
   "execution_count": 17,
   "metadata": {},
   "outputs": [],
   "source": [
    "monthly_investments_mean = investments.groupby('month')['raised_amount_usd'].mean()"
   ]
  },
  {
   "cell_type": "code",
   "execution_count": 18,
   "metadata": {},
   "outputs": [
    {
     "data": {
      "text/plain": [
       "month\n",
       "April        1.531510e+07\n",
       "August       1.445331e+07\n",
       "December     1.591222e+07\n",
       "February     1.243931e+07\n",
       "January      1.345839e+07\n",
       "July         1.673260e+07\n",
       "June         1.702243e+07\n",
       "March        1.463940e+07\n",
       "May          1.544024e+07\n",
       "November     1.513594e+07\n",
       "October      1.518968e+07\n",
       "September    1.604446e+07\n",
       "Name: raised_amount_usd, dtype: float64"
      ]
     },
     "execution_count": 18,
     "metadata": {},
     "output_type": "execute_result"
    }
   ],
   "source": [
    "monthly_investments_mean"
   ]
  },
  {
   "cell_type": "code",
   "execution_count": 19,
   "metadata": {},
   "outputs": [],
   "source": [
    "months_in_order = ['January', 'February', 'March', 'April', 'May', 'June', 'July', 'August', 'September', 'October', 'November', 'December']"
   ]
  },
  {
   "cell_type": "code",
   "execution_count": 20,
   "metadata": {},
   "outputs": [
    {
     "data": {
      "text/plain": [
       "month\n",
       "January      18127\n",
       "February     11922\n",
       "March        13829\n",
       "April        13524\n",
       "May          13412\n",
       "June         15286\n",
       "July         14243\n",
       "August       13422\n",
       "September    14945\n",
       "October      14633\n",
       "November     13490\n",
       "December     11813\n",
       "Name: company_name, dtype: int64"
      ]
     },
     "execution_count": 20,
     "metadata": {},
     "output_type": "execute_result"
    }
   ],
   "source": [
    "monthly_investments_total.reindex(index=months_in_order)"
   ]
  },
  {
   "cell_type": "code",
   "execution_count": 21,
   "metadata": {},
   "outputs": [
    {
     "data": {
      "text/plain": [
       "<matplotlib.axes._subplots.AxesSubplot at 0x12234c5c0>"
      ]
     },
     "execution_count": 21,
     "metadata": {},
     "output_type": "execute_result"
    },
    {
     "data": {
      "image/png": "[encoded data removed]",
      "text/plain": [
       "<Figure size 432x288 with 1 Axes>"
      ]
     },
     "metadata": {
      "needs_background": "light"
     },
     "output_type": "display_data"
    }
   ],
   "source": [
    "fig = plt.figure()\n",
    "monthly_investments_total.plot(kind='bar')\n",
    "# need to figure out how to get the x-axis labels to be displayed in the same order as the Series index"
   ]
  },
  {
   "cell_type": "code",
   "execution_count": 22,
   "metadata": {},
   "outputs": [],
   "source": [
    "# Result: January sees the most activity in terms of total number of investments"
   ]
  },
  {
   "cell_type": "code",
   "execution_count": 23,
   "metadata": {},
   "outputs": [
    {
     "data": {
      "text/plain": [
       "<matplotlib.axes._subplots.AxesSubplot at 0x1225d1668>"
      ]
     },
     "execution_count": 23,
     "metadata": {},
     "output_type": "execute_result"
    },
    {
     "data": {
      "image/png": "[encoded data removed]",
      "text/plain": [
       "<Figure size 432x288 with 1 Axes>"
      ]
     },
     "metadata": {
      "needs_background": "light"
     },
     "output_type": "display_data"
    }
   ],
   "source": [
    "fig_two = plt.figure()\n",
    "monthly_investments_mean.plot(kind='bar')"
   ]
  },
  {
   "cell_type": "code",
   "execution_count": 24,
   "metadata": {},
   "outputs": [],
   "source": [
    "# now do similar stuff for the aacquisitions.csv file..."
   ]
  },
  {
   "cell_type": "code",
   "execution_count": 25,
   "metadata": {},
   "outputs": [],
   "source": [
    "acquisitions = pd.read_csv('acquisitions.csv')"
   ]
  },
  {
   "cell_type": "code",
   "execution_count": 26,
   "metadata": {},
   "outputs": [
    {
     "data": {
      "text/html": [
       "<div>\n",
       "<style scoped>\n",
       "    .dataframe tbody tr th:only-of-type {\n",
       "        vertical-align: middle;\n",
       "    }\n",
       "\n",
       "    .dataframe tbody tr th {\n",
       "        vertical-align: top;\n",
       "    }\n",
       "\n",
       "    .dataframe thead th {\n",
       "        text-align: right;\n",
       "    }\n",
       "</style>\n",
       "<table border=\"1\" class=\"dataframe\">\n",
       "  <thead>\n",
       "    <tr style=\"text-align: right;\">\n",
       "      <th></th>\n",
       "      <th>company_permalink</th>\n",
       "      <th>company_name</th>\n",
       "      <th>company_category_list</th>\n",
       "      <th>company_country_code</th>\n",
       "      <th>company_state_code</th>\n",
       "      <th>company_region</th>\n",
       "      <th>company_city</th>\n",
       "      <th>acquirer_permalink</th>\n",
       "      <th>acquirer_name</th>\n",
       "      <th>acquirer_category_list</th>\n",
       "      <th>acquirer_country_code</th>\n",
       "      <th>acquirer_state_code</th>\n",
       "      <th>acquirer_region</th>\n",
       "      <th>acquirer_city</th>\n",
       "      <th>acquired_at</th>\n",
       "      <th>acquired_month</th>\n",
       "      <th>price_amount</th>\n",
       "      <th>price_currency_code</th>\n",
       "    </tr>\n",
       "  </thead>\n",
       "  <tbody>\n",
       "    <tr>\n",
       "      <th>0</th>\n",
       "      <td>/organization/003-ru</td>\n",
       "      <td>003.RU</td>\n",
       "      <td>Consumer Electronics|Electronics|Internet</td>\n",
       "      <td>RUS</td>\n",
       "      <td>48</td>\n",
       "      <td>Moscow</td>\n",
       "      <td>Moscow</td>\n",
       "      <td>/organization/media-saturn</td>\n",
       "      <td>Media Saturn</td>\n",
       "      <td>Enterprise Software|Media|Sales and Marketing</td>\n",
       "      <td>ESP</td>\n",
       "      <td>56</td>\n",
       "      <td>Barcelona</td>\n",
       "      <td>Barcelona</td>\n",
       "      <td>2012-07-23</td>\n",
       "      <td>2012-07</td>\n",
       "      <td>NaN</td>\n",
       "      <td>USD</td>\n",
       "    </tr>\n",
       "    <tr>\n",
       "      <th>1</th>\n",
       "      <td>/organization/0958572-b-c-ltd</td>\n",
       "      <td>0958572 B.C. Ltd.</td>\n",
       "      <td>NaN</td>\n",
       "      <td>NaN</td>\n",
       "      <td>NaN</td>\n",
       "      <td>NaN</td>\n",
       "      <td>NaN</td>\n",
       "      <td>/organization/atlas-intellectual-property-mana...</td>\n",
       "      <td>ATLAS Intellectual Property Management Co.</td>\n",
       "      <td>Finance|FinTech|Mobile|Telecommunications</td>\n",
       "      <td>USA</td>\n",
       "      <td>WA</td>\n",
       "      <td>Seattle</td>\n",
       "      <td>Seattle</td>\n",
       "      <td>2012-02-02</td>\n",
       "      <td>2012-02</td>\n",
       "      <td>9000000.0</td>\n",
       "      <td>USD</td>\n",
       "    </tr>\n",
       "    <tr>\n",
       "      <th>2</th>\n",
       "      <td>/organization/1-800-communications</td>\n",
       "      <td>1-800 Communications</td>\n",
       "      <td>NaN</td>\n",
       "      <td>USA</td>\n",
       "      <td>NY</td>\n",
       "      <td>Long Island</td>\n",
       "      <td>Hicksville</td>\n",
       "      <td>/organization/carsdirect-com</td>\n",
       "      <td>CarsDirect.com</td>\n",
       "      <td>E-Commerce</td>\n",
       "      <td>USA</td>\n",
       "      <td>CA</td>\n",
       "      <td>Los Angeles</td>\n",
       "      <td>El Segundo</td>\n",
       "      <td>2005-06-12</td>\n",
       "      <td>2005-06</td>\n",
       "      <td>NaN</td>\n",
       "      <td>USD</td>\n",
       "    </tr>\n",
       "    <tr>\n",
       "      <th>3</th>\n",
       "      <td>/organization/1-800-contacts</td>\n",
       "      <td>1-800 Contacts</td>\n",
       "      <td>Consumer Goods|Retail</td>\n",
       "      <td>USA</td>\n",
       "      <td>UT</td>\n",
       "      <td>Salt Lake City</td>\n",
       "      <td>Draper</td>\n",
       "      <td>/organization/thomas-h-lee-partners</td>\n",
       "      <td>Thomas H. Lee Partners</td>\n",
       "      <td>Business Development|Impact Investing|Investme...</td>\n",
       "      <td>USA</td>\n",
       "      <td>MA</td>\n",
       "      <td>Boston</td>\n",
       "      <td>Boston</td>\n",
       "      <td>2014-01-07</td>\n",
       "      <td>2014-01</td>\n",
       "      <td>NaN</td>\n",
       "      <td>USD</td>\n",
       "    </tr>\n",
       "    <tr>\n",
       "      <th>4</th>\n",
       "      <td>/organization/1-844-446-4460-pogo-customer-ser...</td>\n",
       "      <td>Games Support +1-800-311-5934 Pogo Games techn...</td>\n",
       "      <td>NaN</td>\n",
       "      <td>NaN</td>\n",
       "      <td>NaN</td>\n",
       "      <td>NaN</td>\n",
       "      <td>NaN</td>\n",
       "      <td>/organization/pogo-customer-service-number-1-8...</td>\n",
       "      <td>Games Support +1-800-311-5934 Pogo Games techn...</td>\n",
       "      <td>NaN</td>\n",
       "      <td>USA</td>\n",
       "      <td>NY</td>\n",
       "      <td>New York City</td>\n",
       "      <td>Mamaroneck</td>\n",
       "      <td>2001-02-02</td>\n",
       "      <td>2001-02</td>\n",
       "      <td>NaN</td>\n",
       "      <td>USD</td>\n",
       "    </tr>\n",
       "  </tbody>\n",
       "</table>\n",
       "</div>"
      ],
      "text/plain": [
       "                                   company_permalink  \\\n",
       "0                               /organization/003-ru   \n",
       "1                      /organization/0958572-b-c-ltd   \n",
       "2                 /organization/1-800-communications   \n",
       "3                       /organization/1-800-contacts   \n",
       "4  /organization/1-844-446-4460-pogo-customer-ser...   \n",
       "\n",
       "                                        company_name  \\\n",
       "0                                             003.RU   \n",
       "1                                  0958572 B.C. Ltd.   \n",
       "2                               1-800 Communications   \n",
       "3                                     1-800 Contacts   \n",
       "4  Games Support +1-800-311-5934 Pogo Games techn...   \n",
       "\n",
       "                       company_category_list company_country_code  \\\n",
       "0  Consumer Electronics|Electronics|Internet                  RUS   \n",
       "1                                        NaN                  NaN   \n",
       "2                                        NaN                  USA   \n",
       "3                      Consumer Goods|Retail                  USA   \n",
       "4                                        NaN                  NaN   \n",
       "\n",
       "  company_state_code  company_region company_city  \\\n",
       "0                 48          Moscow       Moscow   \n",
       "1                NaN             NaN          NaN   \n",
       "2                 NY     Long Island   Hicksville   \n",
       "3                 UT  Salt Lake City       Draper   \n",
       "4                NaN             NaN          NaN   \n",
       "\n",
       "                                  acquirer_permalink  \\\n",
       "0                         /organization/media-saturn   \n",
       "1  /organization/atlas-intellectual-property-mana...   \n",
       "2                       /organization/carsdirect-com   \n",
       "3                /organization/thomas-h-lee-partners   \n",
       "4  /organization/pogo-customer-service-number-1-8...   \n",
       "\n",
       "                                       acquirer_name  \\\n",
       "0                                       Media Saturn   \n",
       "1         ATLAS Intellectual Property Management Co.   \n",
       "2                                     CarsDirect.com   \n",
       "3                             Thomas H. Lee Partners   \n",
       "4  Games Support +1-800-311-5934 Pogo Games techn...   \n",
       "\n",
       "                              acquirer_category_list acquirer_country_code  \\\n",
       "0      Enterprise Software|Media|Sales and Marketing                   ESP   \n",
       "1          Finance|FinTech|Mobile|Telecommunications                   USA   \n",
       "2                                         E-Commerce                   USA   \n",
       "3  Business Development|Impact Investing|Investme...                   USA   \n",
       "4                                                NaN                   USA   \n",
       "\n",
       "  acquirer_state_code acquirer_region acquirer_city acquired_at  \\\n",
       "0                  56       Barcelona     Barcelona  2012-07-23   \n",
       "1                  WA         Seattle       Seattle  2012-02-02   \n",
       "2                  CA     Los Angeles    El Segundo  2005-06-12   \n",
       "3                  MA          Boston        Boston  2014-01-07   \n",
       "4                  NY   New York City    Mamaroneck  2001-02-02   \n",
       "\n",
       "  acquired_month  price_amount price_currency_code  \n",
       "0        2012-07           NaN                 USD  \n",
       "1        2012-02     9000000.0                 USD  \n",
       "2        2005-06           NaN                 USD  \n",
       "3        2014-01           NaN                 USD  \n",
       "4        2001-02           NaN                 USD  "
      ]
     },
     "execution_count": 26,
     "metadata": {},
     "output_type": "execute_result"
    }
   ],
   "source": [
    "acquisitions.head()"
   ]
  },
  {
   "cell_type": "code",
   "execution_count": 27,
   "metadata": {},
   "outputs": [
    {
     "data": {
      "text/plain": [
       "company_permalink          object\n",
       "company_name               object\n",
       "company_category_list      object\n",
       "company_country_code       object\n",
       "company_state_code         object\n",
       "company_region             object\n",
       "company_city               object\n",
       "acquirer_permalink         object\n",
       "acquirer_name              object\n",
       "acquirer_category_list     object\n",
       "acquirer_country_code      object\n",
       "acquirer_state_code        object\n",
       "acquirer_region            object\n",
       "acquirer_city              object\n",
       "acquired_at                object\n",
       "acquired_month             object\n",
       "price_amount              float64\n",
       "price_currency_code        object\n",
       "dtype: object"
      ]
     },
     "execution_count": 27,
     "metadata": {},
     "output_type": "execute_result"
    }
   ],
   "source": [
    "acquisitions.dtypes"
   ]
  },
  {
   "cell_type": "code",
   "execution_count": 28,
   "metadata": {},
   "outputs": [],
   "source": [
    "# drop the acquisitions that are missing a date\n",
    "acquisitions[acquisitions['acquired_at'].isnull()]\n",
    "acquisitions = acquisitions.dropna(subset=['acquired_at'])\n"
   ]
  },
  {
   "cell_type": "code",
   "execution_count": null,
   "metadata": {},
   "outputs": [],
   "source": [
    "# This company's acquired_at date is incorrect and cannot be converted into a TimeSeries, so I'm dropping it from the table\n",
    "# bad_dates = ['1201-11-03', '3201-10-21']\n",
    "# #acquisitions.loc[acquisitions['acquired_at'] == '3201-10-21']\n",
    "# acquisitions.loc[acquisitions['acquired_at'] == '1201-11-03']\n"
   ]
  },
  {
   "cell_type": "code",
   "execution_count": null,
   "metadata": {},
   "outputs": [],
   "source": [
    "# acquisitions.drop(index=2635, inplace=True)"
   ]
  },
  {
   "cell_type": "code",
   "execution_count": 29,
   "metadata": {},
   "outputs": [],
   "source": [
    "# Convert dates into Panda TimeSeries type for more reliable manipulation\n",
    "# Dates with an incorrect format will be replaced with NaT\n",
    "bad_dates = []\n",
    "\n",
    "acquisitions['acquired_at'] = pd.to_datetime(acquisitions.acquired_at, errors='coerce')"
   ]
  },
  {
   "cell_type": "code",
   "execution_count": null,
   "metadata": {},
   "outputs": [],
   "source": []
  },
  {
   "cell_type": "code",
   "execution_count": null,
   "metadata": {},
   "outputs": [],
   "source": [
    "# Now drop all datetimes that are NaT (basically NaN)"
   ]
  },
  {
   "cell_type": "code",
   "execution_count": 32,
   "metadata": {},
   "outputs": [],
   "source": [
    "acquisitions.dropna(subset=['acquired_at'], inplace=True)"
   ]
  },
  {
   "cell_type": "code",
   "execution_count": null,
   "metadata": {},
   "outputs": [],
   "source": []
  },
  {
   "cell_type": "code",
   "execution_count": 34,
   "metadata": {},
   "outputs": [],
   "source": [
    "# Create a new column representing the month in which the acquisition was made"
   ]
  },
  {
   "cell_type": "code",
   "execution_count": 35,
   "metadata": {},
   "outputs": [],
   "source": [
    "acquisitions['month'] = acquisitions.acquired_at.dt.month_name()"
   ]
  },
  {
   "cell_type": "code",
   "execution_count": 37,
   "metadata": {},
   "outputs": [],
   "source": [
    "# Group \n",
    "monthly_acquisitions_total = acquisitions.groupby('month')['company_name'].count()"
   ]
  },
  {
   "cell_type": "code",
   "execution_count": 38,
   "metadata": {},
   "outputs": [
    {
     "data": {
      "text/plain": [
       "month\n",
       "April        1439\n",
       "August       1422\n",
       "December     1491\n",
       "February     1349\n",
       "January      1890\n",
       "July         1660\n",
       "June         1618\n",
       "March        1403\n",
       "May          1515\n",
       "November     1607\n",
       "October      1855\n",
       "September    1705\n",
       "Name: company_name, dtype: int64"
      ]
     },
     "execution_count": 38,
     "metadata": {},
     "output_type": "execute_result"
    }
   ],
   "source": [
    "monthly_acquisitions_total"
   ]
  },
  {
   "cell_type": "code",
   "execution_count": 39,
   "metadata": {},
   "outputs": [
    {
     "data": {
      "text/plain": [
       "<matplotlib.axes._subplots.AxesSubplot at 0x12576cdd8>"
      ]
     },
     "execution_count": 39,
     "metadata": {},
     "output_type": "execute_result"
    },
    {
     "data": {
      "image/png": "[encoded data removed]",
      "text/plain": [
       "<Figure size 432x288 with 1 Axes>"
      ]
     },
     "metadata": {
      "needs_background": "light"
     },
     "output_type": "display_data"
    }
   ],
   "source": [
    "monthly_acquisitions_total.plot(kind='bar')"
   ]
  },
  {
   "cell_type": "code",
   "execution_count": null,
   "metadata": {},
   "outputs": [],
   "source": []
  }
 ],
 "metadata": {
  "kernelspec": {
   "display_name": "Python 3",
   "language": "python",
   "name": "python3"
  },
  "language_info": {
   "codemirror_mode": {
    "name": "ipython",
    "version": 3
   },
   "file_extension": ".py",
   "mimetype": "text/x-python",
   "name": "python",
   "nbconvert_exporter": "python",
   "pygments_lexer": "ipython3",
   "version": "3.7.3"
  }
 },
 "nbformat": 4,
 "nbformat_minor": 2
}
