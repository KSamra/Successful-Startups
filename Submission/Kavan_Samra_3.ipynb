{
 "cells": [
  {
   "cell_type": "code",
   "execution_count": 1,
   "metadata": {},
   "outputs": [],
   "source": [
    "# clean investment and acquisition data files for displaying with Question 2. \n",
    "import pandas as pd\n",
    "\n",
    "investment_data = pd.read_csv('investments.csv')\n",
    "aq_data = pd.read_csv('acquisitions.csv')\n",
    "# convert the existing date column into a TimeSeries for easier manipulation and calculations\n",
    "investment_data['funded_at'] = pd.to_datetime(investment_data['funded_at'])\n",
    "\n",
    "# new column that specifies the quarter of the year the investment was made\n",
    "investment_data['quarter'] = investment_data.funded_at.dt.quarter\n",
    "\n",
    "# new column that specifies the name of the month that the investment was made\n",
    "investment_data['month'] = investment_data.funded_at.dt.month_name()\n",
    "\n",
    "# Clean acquisition data by converting dates to DateTime objects and dropping NA values\n",
    "aq_data.dropna(subset=['acquired_at'], inplace=True)\n",
    "aq_data['acquired_at'] = pd.to_datetime(aq_data.acquired_at, errors='coerce')\n",
    "aq_data.dropna(subset=['acquired_at'], inplace=True)\n",
    "\n",
    "# new column; month the acquisition was made\n",
    "aq_data['month'] = aq_data.acquired_at.dt.month_name()\n",
    "#new column; quarter the acquisition was made\n",
    "aq_data['quarter'] = aq_data.acquired_at.dt.quarter\n",
    "\n",
    "investment_data.to_csv('clean_investments.csv')\n",
    "aq_data.to_csv('clean_acquisitions.csv')"
   ]
  }
 ],
 "metadata": {
  "kernelspec": {
   "display_name": "Python 3",
   "language": "python",
   "name": "python3"
  },
  "language_info": {
   "codemirror_mode": {
    "name": "ipython",
    "version": 3
   },
   "file_extension": ".py",
   "mimetype": "text/x-python",
   "name": "python",
   "nbconvert_exporter": "python",
   "pygments_lexer": "ipython3",
   "version": "3.7.3"
  }
 },
 "nbformat": 4,
 "nbformat_minor": 2
}
