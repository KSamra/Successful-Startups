{
 "cells": [
  {
   "cell_type": "code",
   "execution_count": 1,
   "metadata": {},
   "outputs": [],
   "source": [
    "import pandas as pd\n",
    "import numpy as np"
   ]
  },
  {
   "cell_type": "code",
   "execution_count": 2,
   "metadata": {},
   "outputs": [],
   "source": [
    "names = ['acquisitions', 'investments']\n",
    "dfs = [pd.read_csv(name + '.csv') for name in names]"
   ]
  },
  {
   "cell_type": "code",
   "execution_count": 3,
   "metadata": {},
   "outputs": [],
   "source": [
    "for n, df in enumerate(dfs):\n",
    "    #Drop NaNs in company category column and redo the index\n",
    "    df = df[df['company_category_list'].notnull()]\n",
    "    df.index = range(len(df))\n",
    "\n",
    "    #Assign each unique, single tag a column number\n",
    "    unique = df['company_category_list'].astype(str).unique()\n",
    "    singles = []\n",
    "    for tag in unique:\n",
    "        singles.extend(tag.split('|'))\n",
    "    singles = pd.unique(singles)\n",
    "    tagInds = pd.Series(data=range(len(singles)), index=singles)\n",
    "\n",
    "    #Make a dataframe where each row has a 1 for each of its tags, 0 otherwise\n",
    "    lists = df['company_category_list'].astype(str).map(lambda x: x.split('|'))\n",
    "    arr = np.zeros((len(lists), len(tagInds)))\n",
    "    for i, l in enumerate(lists):\n",
    "        for tag in l:\n",
    "            arr[i][tagInds[tag]] = 1\n",
    "    dummies = pd.DataFrame(arr, columns=singles)\n",
    "\n",
    "    #Isolate the top 50 tags and reassign tag numbers\n",
    "    top50 = dummies.sum().sort_values(ascending=False).head(50)\n",
    "    tagInds = pd.Series(range(50), index=top50.index)\n",
    "\n",
    "    #Make another dataframe but with an 'Other' column for tags not in the top 50\n",
    "    arr = np.zeros((len(lists), 51))\n",
    "    for i, l in enumerate(lists):\n",
    "        for tag in l:\n",
    "            if tag in tagInds:\n",
    "                arr[i][tagInds[tag]] = 1\n",
    "            else:\n",
    "                arr[i][50] = 1\n",
    "    dummies = pd.DataFrame(arr, columns=list(tagInds.index) + ['Other'])\n",
    "\n",
    "    #Add the dummy columns to the data\n",
    "    dfs[n] = df.join(dummies)"
   ]
  },
  {
   "cell_type": "code",
   "execution_count": 5,
   "metadata": {},
   "outputs": [
    {
     "data": {
      "text/plain": [
       "Software                  24641.0\n",
       "Mobile                    18065.0\n",
       "Biotechnology             13954.0\n",
       "E-Commerce                12354.0\n",
       "Enterprise Software       11766.0\n",
       "Curated Web                8999.0\n",
       "Advertising                8528.0\n",
       "Health Care                7639.0\n",
       "Social Media               7587.0\n",
       "Analytics                  7548.0\n",
       "SaaS                       7288.0\n",
       "Finance                    6010.0\n",
       "Internet                   5410.0\n",
       "Technology                 5200.0\n",
       "Games                      5167.0\n",
       "Education                  4871.0\n",
       "Apps                       4772.0\n",
       "Hardware + Software        4724.0\n",
       "Clean Technology           4412.0\n",
       "Health and Wellness        4345.0\n",
       "Security                   4049.0\n",
       "Big Data                   3779.0\n",
       "Marketplaces               3726.0\n",
       "Cloud Computing            3644.0\n",
       "Semiconductors             3579.0\n",
       "Video                      3477.0\n",
       "FinTech                    3037.0\n",
       "Services                   2920.0\n",
       "Fashion                    2913.0\n",
       "Search                     2574.0\n",
       "Manufacturing              2536.0\n",
       "Web Hosting                2523.0\n",
       "Travel                     2439.0\n",
       "Sales and Marketing        2267.0\n",
       "Medical                    2258.0\n",
       "Messaging                  2223.0\n",
       "Networking                 2187.0\n",
       "Retail                     2160.0\n",
       "Startups                   2127.0\n",
       "Media                      2122.0\n",
       "Digital Media              2084.0\n",
       "News                       2027.0\n",
       "Music                      2024.0\n",
       "Financial Services         2019.0\n",
       "Android                    1998.0\n",
       "Information Technology     1906.0\n",
       "Social Network Media       1903.0\n",
       "iPhone                     1833.0\n",
       "Hospitality                1800.0\n",
       "Entertainment              1761.0\n",
       "Other                     92949.0\n",
       "dtype: float64"
      ]
     },
     "execution_count": 5,
     "metadata": {},
     "output_type": "execute_result"
    }
   ],
   "source": [
    "#Dummy dataframe can be retrieved by fetching the last 51 columns\n",
    "investment_dummies = dfs[1].iloc[:, -51:]\n",
    "investment_dummies.sum()"
   ]
  },
  {
   "cell_type": "code",
   "execution_count": 6,
   "metadata": {},
   "outputs": [],
   "source": [
    "for df, name in zip(dfs, names):\n",
    "    #Save to file\n",
    "    df.to_csv(name + '_with_dummies.csv')"
   ]
  },
  {
   "cell_type": "code",
   "execution_count": null,
   "metadata": {},
   "outputs": [],
   "source": []
  }
 ],
 "metadata": {
  "kernelspec": {
   "display_name": "Python 3",
   "language": "python",
   "name": "python3"
  },
  "language_info": {
   "codemirror_mode": {
    "name": "ipython",
    "version": 3
   },
   "file_extension": ".py",
   "mimetype": "text/x-python",
   "name": "python",
   "nbconvert_exporter": "python",
   "pygments_lexer": "ipython3",
   "version": "3.7.3"
  }
 },
 "nbformat": 4,
 "nbformat_minor": 2
}
