{
 "cells": [
  {
   "cell_type": "code",
   "execution_count": 1,
   "metadata": {},
   "outputs": [],
   "source": [
    "# %load Q2.py\n",
    "import pandas as pd\n",
    "import numpy as np \n",
    "# switch output_file with output_notebook if rendering in jupyter notebook\n",
    "from bokeh.plotting import figure, output_file, show\n",
    "from bokeh.models import ColumnDataSource, Panel, Tabs\n",
    "from bokeh.models.tools import HoverTool\n",
    "\n",
    "output_file(\"q2.html\")\n",
    "# read from data sources\n",
    "investment_data = pd.read_csv('clean_investments.csv')\n",
    "aq_data = pd.read_csv('clean_acquisitions.csv')\n",
    "\n",
    "# how many investments occur per month\n",
    "monthly_investments_total = investment_data.groupby('month')['company_name'].count()\n",
    "\n",
    "# order that we want the months to be displayed on figure's x-axis\n",
    "months = ['January', 'February', 'March', 'April', 'May', 'June', 'July', 'August', 'September', 'October', 'November', 'December']\n",
    "\n",
    "d_monthly = monthly_investments_total.to_dict()\n",
    "l_monthly = [d_monthly.get(x) for x in months]\n",
    "\n",
    "monthly_source = ColumnDataSource(data=dict(months=months, counts=l_monthly))\n",
    "\n",
    "# figure displaying monthly number of investments\n",
    "p1 = figure(x_range=months, toolbar_location=None, title=\"Investments per Month\", width=800)\n",
    "p1.vbar(x='months', top='counts', width=0.5, source=monthly_source, color=\"firebrick\")\n",
    "p1.xaxis.axis_label = 'Month'\n",
    "p1.yaxis.axis_label = 'Number of Investments'\n",
    "\n",
    "hover = HoverTool()\n",
    "hover.tooltips = [('Total # of Investments', '@counts')]\n",
    "p1.add_tools(hover)\n",
    "\n",
    "tab1 = Panel(child=p1, title=\"Investments\")\n",
    "\n",
    "# do the same for monthly acquisitions\n",
    "monthly_acquisitions = aq_data.groupby('month')['company_name'].count()\n",
    "temp = monthly_acquisitions.to_dict()\n",
    "aq_values = [temp.get(x) for x in months]\n",
    "\n",
    "aq_source = ColumnDataSource(data=dict(months=months, counts=aq_values))\n",
    "\n",
    "p2 = figure(x_range=months, title=\"Acquisitions per Month\", width=800, toolbar_location=None)\n",
    "p2.vbar(x='months', top='counts', width=0.5, source=aq_source, color=\"firebrick\")\n",
    "p1.xaxis.axis_label = 'Month'\n",
    "p1.yaxis.axis_label = 'Number of Acquisitions'\n",
    "hover2 = HoverTool()\n",
    "hover2.tooltips = [('Total # of Acquisitions', '@counts')]\n",
    "p2.add_tools(hover2)\n",
    "\n",
    "tab2 = Panel(child=p2, title=\"Acquisitions\")\n",
    "\n",
    "\n",
    "tabs = Tabs(tabs=[tab1, tab2])\n",
    "show(tabs)\n"
   ]
  },
  {
   "cell_type": "code",
   "execution_count": null,
   "metadata": {},
   "outputs": [],
   "source": []
  }
 ],
 "metadata": {
  "kernelspec": {
   "display_name": "Python 3",
   "language": "python",
   "name": "python3"
  },
  "language_info": {
   "codemirror_mode": {
    "name": "ipython",
    "version": 3
   },
   "file_extension": ".py",
   "mimetype": "text/x-python",
   "name": "python",
   "nbconvert_exporter": "python",
   "pygments_lexer": "ipython3",
   "version": "3.7.3"
  }
 },
 "nbformat": 4,
 "nbformat_minor": 2
}
