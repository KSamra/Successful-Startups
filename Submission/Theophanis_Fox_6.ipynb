{
 "cells": [
  {
   "cell_type": "code",
   "execution_count": 1,
   "metadata": {},
   "outputs": [],
   "source": [
    "import pandas as pd\n",
    "from bokeh.io import output_file, show\n",
    "from bokeh.plotting import figure\n",
    "from bokeh.models import LinearAxis, Range1d, Legend, Panel, Tabs"
   ]
  },
  {
   "cell_type": "code",
   "execution_count": 2,
   "metadata": {},
   "outputs": [],
   "source": [
    "df = pd.read_csv('investments.csv')\n",
    "\n",
    "#choose only the columns we need\n",
    "df = df.loc[:, ['company_category_list', 'funded_at', 'raised_amount_usd']]\n",
    "\n",
    "#drop NaNs\n",
    "df.dropna(inplace=True)\n",
    "\n",
    "#add column with the year of each investment\n",
    "df['funded_at'] = pd.to_datetime(df['funded_at'])\n",
    "df['Year'] = df['funded_at'].dt.year"
   ]
  },
  {
   "cell_type": "code",
   "execution_count": 3,
   "metadata": {},
   "outputs": [],
   "source": [
    "#the sectors we're analyzing\n",
    "sectors = ['Biotechnology', 'Machine Learning', 'Cloud Computing', 'Apps', 'FinTech', 'Android']\n",
    "output_file('google_trends.html')\n",
    "tabs = []"
   ]
  },
  {
   "cell_type": "code",
   "execution_count": 4,
   "metadata": {},
   "outputs": [],
   "source": [
    "def addPlot(sector):\n",
    "    #grab rows corresponding to investment in the sector\n",
    "    sector_df = df[df['company_category_list'].str.contains(sector)]\n",
    "\n",
    "    #get the sum of investment in the sector for each year\n",
    "    sector_years = sector_df.groupby('Year')['raised_amount_usd'].sum()\n",
    "\n",
    "    #read the google trends data and add year column\n",
    "    google_df = pd.read_csv(sector + '.csv', skiprows=2)\n",
    "    google_df['Month'] = pd.to_datetime(google_df['Month'])\n",
    "    google_df['Year'] = google_df['Month'].dt.year\n",
    "\n",
    "    #ensure all of the google trends data are ints\n",
    "    google_df[sector + ': (Worldwide)'].replace('<1', '0', inplace=True)\n",
    "    google_df[sector + ': (Worldwide)'] = google_df[sector + ': (Worldwide)'].astype(int)\n",
    "\n",
    "    #get the mean search interest for each year\n",
    "    google_years = google_df.groupby('Year')[sector + ': (Worldwide)'].mean()\n",
    "\n",
    "    #Plotting Sources\n",
    "    #https://medium.com/@pknerd/data-visualization-in-bokeh-line-graph-725ef720ebeb\n",
    "    #https://stackoverflow.com/questions/25199665/one-chart-with-two-different-y-axis-ranges-in-bokeh\n",
    "    #https://stackoverflow.com/questions/26254619/position-of-the-legend-in-a-bokeh-plot\n",
    "\n",
    "#     output_file(sector + '2.html', mode='inline')\n",
    "    plot = figure(title=sector + ' Investment and Google Trends Search Interest',x_axis_label = 'Year',\n",
    "                  y_axis_label = 'Investment (USD)', plot_width=800, plot_height=500)\n",
    "    \n",
    "    #plot the investments\n",
    "    invest_line = plot.line(sector_years.index, sector_years, line_width=2, line_color='blue')\n",
    "\n",
    "    #add an extra y axis and plot the search interest\n",
    "    plot.extra_y_ranges = {'google': Range1d(start=0, end=100)}\n",
    "    plot.add_layout(LinearAxis(y_range_name='google', axis_label='Search Interest'), 'right')\n",
    "    google_line = plot.line(google_years.index, google_years, line_width=2, line_color='red', y_range_name='google')\n",
    "\n",
    "    #add legend\n",
    "    legend = Legend(items=[(\"Investment\", [invest_line]), (\"Search Interest\", [google_line])], location=(10,140))\n",
    "    plot.add_layout(legend, 'center')\n",
    "    return plot\n",
    "\n",
    "for sector in sectors:\n",
    "    newPlot = addPlot(sector)\n",
    "    newTab = Panel(child=newPlot, title=sector)\n",
    "    tabs.append(newTab)\n",
    "\n",
    "figureTabs = Tabs(tabs=tabs)\n",
    "show(figureTabs)"
   ]
  },
  {
   "cell_type": "code",
   "execution_count": null,
   "metadata": {},
   "outputs": [],
   "source": []
  }
 ],
 "metadata": {
  "kernelspec": {
   "display_name": "Python 3",
   "language": "python",
   "name": "python3"
  },
  "language_info": {
   "codemirror_mode": {
    "name": "ipython",
    "version": 3
   },
   "file_extension": ".py",
   "mimetype": "text/x-python",
   "name": "python",
   "nbconvert_exporter": "python",
   "pygments_lexer": "ipython3",
   "version": "3.7.3"
  }
 },
 "nbformat": 4,
 "nbformat_minor": 2
}
