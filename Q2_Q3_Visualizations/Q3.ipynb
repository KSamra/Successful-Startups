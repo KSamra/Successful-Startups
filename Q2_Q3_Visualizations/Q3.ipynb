{
 "cells": [
  {
   "cell_type": "code",
   "execution_count": 6,
   "metadata": {},
   "outputs": [],
   "source": [
    "# Question 3: Do venture capitalists tend to \n",
    "# invest domestically, or are their investments diversified with international investments?"
   ]
  },
  {
   "cell_type": "code",
   "execution_count": 8,
   "metadata": {},
   "outputs": [],
   "source": [
    "# %load Q3.py\n",
    "import pandas as pd\n",
    "from bokeh.io import show, output_file\n",
    "from bokeh.plotting import figure\n",
    "from bokeh.models import ColumnDataSource, Panel, Tabs, FactorRange\n",
    "from bokeh.models.tools import HoverTool\n",
    "from bokeh.transform import factor_cmap\n",
    "\n",
    "\n",
    "output_file('q3.html')\n",
    "\n",
    "\n",
    "def markDomestic(row):\n",
    "  '''\n",
    "  Marks an investment as domestic if countries are the same.\n",
    "  '''\n",
    "  return row.company_country_code == row.investor_country_code\n",
    "\n",
    "investments = pd.read_csv('investments_clean.csv')\n",
    "investments.drop(columns='Unnamed: 0', inplace=True)\n",
    "\n",
    "investments.dropna(subset=['investor_name', 'raised_amount_usd', 'company_country_code'], inplace=True)\n",
    "\n",
    "def makePlot(option='sum'):\n",
    "  # First determine 'top investors'\n",
    "  grouped_investors = investments.groupby('investor_name', sort=False)['raised_amount_usd']\n",
    "  invested_by_each_vc = grouped_investors.sum()\n",
    "\n",
    "  # if we want to determine top investors by overall number of investments made, then option == 'count\n",
    "  if option == 'count':\n",
    "    invested_by_each_vc = grouped_investors.count()\n",
    "\n",
    "  # of the 'top' investors, take only the top 5\n",
    "  top = invested_by_each_vc.nlargest(5)\n",
    "  # top.index is list of investor names\n",
    "  top = top.index\n",
    "\n",
    "  df_top = investments[investments.investor_name.isin(top)]\n",
    "\n",
    "  domestic = df_top.apply(markDomestic, axis=1)\n",
    "\n",
    "  df_top = df_top.assign(domestic=domestic)\n",
    "\n",
    "  groups = df_top.groupby('investor_name')\n",
    "\n",
    "  # Prepare data for plotting\n",
    "  ticks = ['Domestic', 'International']\n",
    "  investor_names = []\n",
    "  international = []\n",
    "  domestic = []\n",
    "  for company, data in groups:\n",
    "    investor_names.append(company)\n",
    "    temp = data.domestic.value_counts()\n",
    "    international.append(temp[False])\n",
    "    domestic.append(temp[True])\n",
    "\n",
    "  data = {\n",
    "    'investors' : investor_names,\n",
    "    'International': international,\n",
    "    'Domestic' : domestic\n",
    "  } \n",
    "\n",
    "  palette = [\"#c7251a\", \"#718dbf\"]\n",
    "\n",
    "  x = [(investor, tick) for investor in investor_names for tick in ticks]\n",
    "  counts = sum(zip(data['Domestic'], data['International']), ())\n",
    "\n",
    "  source = ColumnDataSource(data=dict(x=x, counts=counts))\n",
    "  plot = figure(x_range=FactorRange(*x), plot_height=600, plot_width=850,\n",
    "  title=\"Domestic vs International Investment\", toolbar_location=None)\n",
    "\n",
    "  plot.vbar(x='x', top='counts', source=source, width=0.9, line_color='white',\n",
    "  fill_color=factor_cmap('x', palette=palette, factors=ticks, start=1))\n",
    "\n",
    "  hover = HoverTool()\n",
    "  hover.tooltips = [('Total # of Investments', '@counts')]\n",
    "  plot.add_tools(hover)\n",
    "\n",
    "  plot.y_range.start = 0\n",
    "  plot.x_range.range_padding = 0.0\n",
    "  plot.xaxis.major_label_orientation = 1\n",
    "  plot.xaxis.group_label_orientation = 1\n",
    "  plot.xgrid.grid_line_color=None\n",
    "  plot.xaxis.group_text_font_size = \"7pt\"\n",
    "  plot.xaxis.group_text_line_height = 10\n",
    "  plot.xaxis.axis_label = 'Investor Name'\n",
    "  plot.yaxis.axis_label = 'Number of Investments'\n",
    "  return plot\n",
    "\n",
    "# Make a plot in which the top investors are determined by USD invested\n",
    "p1 = makePlot()\n",
    "# Make a plot in which the top investors are determined by the num of investments made\n",
    "p2 = makePlot('count')\n",
    "\n",
    "tab1 = Panel(child=p1, title=\"Top 5 VC Firms by USD Invested\")\n",
    "tab2 = Panel(child=p2, title=\"Top 5 VC Firms by Number of Investments\")\n",
    "tabs = Tabs(tabs=[tab1, tab2])\n",
    "show(tabs)"
   ]
  },
  {
   "cell_type": "code",
   "execution_count": null,
   "metadata": {},
   "outputs": [],
   "source": []
  },
  {
   "cell_type": "code",
   "execution_count": null,
   "metadata": {},
   "outputs": [],
   "source": []
  },
  {
   "cell_type": "code",
   "execution_count": null,
   "metadata": {},
   "outputs": [],
   "source": []
  },
  {
   "cell_type": "code",
   "execution_count": null,
   "metadata": {},
   "outputs": [],
   "source": []
  },
  {
   "cell_type": "code",
   "execution_count": null,
   "metadata": {},
   "outputs": [],
   "source": []
  },
  {
   "cell_type": "code",
   "execution_count": null,
   "metadata": {},
   "outputs": [],
   "source": []
  },
  {
   "cell_type": "raw",
   "metadata": {},
   "source": []
  },
  {
   "cell_type": "code",
   "execution_count": null,
   "metadata": {},
   "outputs": [],
   "source": []
  },
  {
   "cell_type": "code",
   "execution_count": null,
   "metadata": {},
   "outputs": [],
   "source": []
  },
  {
   "cell_type": "code",
   "execution_count": null,
   "metadata": {},
   "outputs": [],
   "source": []
  },
  {
   "cell_type": "code",
   "execution_count": null,
   "metadata": {},
   "outputs": [],
   "source": []
  },
  {
   "cell_type": "code",
   "execution_count": 5,
   "metadata": {},
   "outputs": [],
   "source": []
  },
  {
   "cell_type": "code",
   "execution_count": null,
   "metadata": {},
   "outputs": [],
   "source": []
  },
  {
   "cell_type": "code",
   "execution_count": null,
   "metadata": {},
   "outputs": [],
   "source": []
  },
  {
   "cell_type": "code",
   "execution_count": null,
   "metadata": {},
   "outputs": [],
   "source": []
  },
  {
   "cell_type": "code",
   "execution_count": null,
   "metadata": {},
   "outputs": [],
   "source": []
  },
  {
   "cell_type": "code",
   "execution_count": null,
   "metadata": {},
   "outputs": [],
   "source": []
  },
  {
   "cell_type": "code",
   "execution_count": null,
   "metadata": {},
   "outputs": [],
   "source": []
  },
  {
   "cell_type": "code",
   "execution_count": null,
   "metadata": {},
   "outputs": [],
   "source": []
  },
  {
   "cell_type": "code",
   "execution_count": null,
   "metadata": {},
   "outputs": [],
   "source": []
  },
  {
   "cell_type": "code",
   "execution_count": null,
   "metadata": {},
   "outputs": [],
   "source": []
  },
  {
   "cell_type": "code",
   "execution_count": null,
   "metadata": {},
   "outputs": [],
   "source": []
  },
  {
   "cell_type": "code",
   "execution_count": null,
   "metadata": {},
   "outputs": [],
   "source": []
  },
  {
   "cell_type": "code",
   "execution_count": null,
   "metadata": {},
   "outputs": [],
   "source": []
  },
  {
   "cell_type": "code",
   "execution_count": null,
   "metadata": {},
   "outputs": [],
   "source": []
  },
  {
   "cell_type": "code",
   "execution_count": null,
   "metadata": {},
   "outputs": [],
   "source": []
  },
  {
   "cell_type": "code",
   "execution_count": null,
   "metadata": {},
   "outputs": [],
   "source": []
  },
  {
   "cell_type": "code",
   "execution_count": null,
   "metadata": {},
   "outputs": [],
   "source": []
  },
  {
   "cell_type": "code",
   "execution_count": null,
   "metadata": {},
   "outputs": [],
   "source": []
  },
  {
   "cell_type": "code",
   "execution_count": null,
   "metadata": {},
   "outputs": [],
   "source": []
  },
  {
   "cell_type": "code",
   "execution_count": null,
   "metadata": {},
   "outputs": [],
   "source": []
  },
  {
   "cell_type": "code",
   "execution_count": null,
   "metadata": {},
   "outputs": [],
   "source": []
  },
  {
   "cell_type": "code",
   "execution_count": null,
   "metadata": {},
   "outputs": [],
   "source": []
  },
  {
   "cell_type": "code",
   "execution_count": null,
   "metadata": {},
   "outputs": [],
   "source": []
  },
  {
   "cell_type": "code",
   "execution_count": null,
   "metadata": {},
   "outputs": [],
   "source": []
  },
  {
   "cell_type": "code",
   "execution_count": null,
   "metadata": {},
   "outputs": [],
   "source": []
  },
  {
   "cell_type": "code",
   "execution_count": null,
   "metadata": {},
   "outputs": [],
   "source": []
  },
  {
   "cell_type": "code",
   "execution_count": null,
   "metadata": {},
   "outputs": [],
   "source": []
  },
  {
   "cell_type": "code",
   "execution_count": null,
   "metadata": {},
   "outputs": [],
   "source": []
  }
 ],
 "metadata": {
  "kernelspec": {
   "display_name": "Python 3",
   "language": "python",
   "name": "python3"
  },
  "language_info": {
   "codemirror_mode": {
    "name": "ipython",
    "version": 3
   },
   "file_extension": ".py",
   "mimetype": "text/x-python",
   "name": "python",
   "nbconvert_exporter": "python",
   "pygments_lexer": "ipython3",
   "version": "3.7.3"
  }
 },
 "nbformat": 4,
 "nbformat_minor": 2
}
